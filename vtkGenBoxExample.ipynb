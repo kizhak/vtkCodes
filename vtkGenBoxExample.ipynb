{
 "cells": [
  {
   "cell_type": "code",
   "execution_count": 1,
   "id": "e82e667f",
   "metadata": {},
   "outputs": [],
   "source": [
    "import vtk\n",
    "import numpy as np"
   ]
  },
  {
   "cell_type": "code",
   "execution_count": 2,
   "id": "89662aa4",
   "metadata": {},
   "outputs": [],
   "source": [
    "nx=10\n",
    "ny=5\n",
    "nz=3\n",
    "totalNodes=(nx+1)*(ny+1)*(nz+1)"
   ]
  },
  {
   "cell_type": "code",
   "execution_count": 3,
   "id": "b16f4c18",
   "metadata": {},
   "outputs": [],
   "source": [
    "nodeData=np.zeros([totalNodes,4])"
   ]
  },
  {
   "cell_type": "code",
   "execution_count": 4,
   "id": "e3bf6469",
   "metadata": {},
   "outputs": [],
   "source": [
    "for k in range(nz+1):\n",
    "    for j in range(ny+1):\n",
    "        for i in range(nx+1):\n",
    "            indx=i+j*(nx+1)+k*(nx+1)*(ny+1)\n",
    "            nodeData[indx,:]=np.array([indx,i,j,k])"
   ]
  },
  {
   "cell_type": "code",
   "execution_count": 5,
   "id": "633be674",
   "metadata": {},
   "outputs": [],
   "source": [
    "nodeValue=np.zeros(totalNodes)\n",
    "for k in range(nz+1):\n",
    "    for j in range(ny+1):\n",
    "        for i in range(nx+1):\n",
    "            indx=i+j*(nx+1)+k*(nx+1)*(ny+1)\n",
    "            nodeValue[indx]=i"
   ]
  },
  {
   "cell_type": "code",
   "execution_count": 6,
   "id": "5282790f",
   "metadata": {},
   "outputs": [],
   "source": [
    "totalElements=nx*ny*nz\n",
    "elementData=np.zeros([totalElements,9],dtype=int)"
   ]
  },
  {
   "cell_type": "code",
   "execution_count": 7,
   "id": "c3ce61a9",
   "metadata": {},
   "outputs": [],
   "source": [
    "for k in range(nz):\n",
    "    for j in range(ny):\n",
    "        for i in range(nx):\n",
    "            indx=i+j*nx+k*nx*ny\n",
    "            node1=i+j*(nx+1)+k*(nx+1)*(ny+1)\n",
    "            node2=node1+1\n",
    "            node3=node1+(nx+1)\n",
    "            node4=node3+1\n",
    "            node5=node1+(nx+1)*(ny+1)\n",
    "            node6=node5+1\n",
    "            node7=node5+(nx+1)\n",
    "            node8=node7+1\n",
    "            elementData[indx,:]=np.array([indx,node1,node2,node3,node4,node5,node6,node7,node8])\n",
    "            "
   ]
  },
  {
   "cell_type": "code",
   "execution_count": 8,
   "id": "044a26d2",
   "metadata": {},
   "outputs": [],
   "source": [
    "elementState=np.zeros(totalElements,dtype=int)\n",
    "for k in range(nz):\n",
    "    for j in range(ny):\n",
    "        for i in range(nx):\n",
    "            indx=i+j*nx+k*nx*ny\n",
    "            elementState[indx]=i"
   ]
  },
  {
   "cell_type": "code",
   "execution_count": 9,
   "id": "daf6f6dc",
   "metadata": {},
   "outputs": [],
   "source": [
    "voxelPoints = vtk.vtkPoints()\n",
    "voxelPoints.SetNumberOfPoints(totalNodes)\n",
    "for i in range(totalNodes):\n",
    "    voxelPoints.InsertPoint(i, nodeData[i,1], nodeData[i,2], nodeData[i,3])"
   ]
  },
  {
   "cell_type": "code",
   "execution_count": 10,
   "id": "edad5ec0",
   "metadata": {},
   "outputs": [],
   "source": [
    "VoxelGrid = vtk.vtkUnstructuredGrid()\n",
    "VoxelGrid.SetPoints(voxelPoints)\n",
    "aVoxel = vtk.vtkVoxel()\n",
    "for i in range(totalElements):\n",
    "    element_i=elementData[i,:]\n",
    "    #aVoxel = vtk.vtkVoxel()\n",
    "    aVoxel.GetPointIds().SetId(0, element_i[1])\n",
    "    aVoxel.GetPointIds().SetId(1, element_i[2])\n",
    "    aVoxel.GetPointIds().SetId(2, element_i[3])\n",
    "    aVoxel.GetPointIds().SetId(3, element_i[4])\n",
    "    aVoxel.GetPointIds().SetId(4, element_i[5])\n",
    "    aVoxel.GetPointIds().SetId(5, element_i[6])\n",
    "    aVoxel.GetPointIds().SetId(6, element_i[7])\n",
    "    aVoxel.GetPointIds().SetId(7, element_i[8])\n",
    "    VoxelGrid.InsertNextCell(aVoxel.GetCellType(), aVoxel.GetPointIds())"
   ]
  },
  {
   "cell_type": "code",
   "execution_count": 11,
   "id": "77ddb0a7",
   "metadata": {},
   "outputs": [],
   "source": [
    "values = vtk.vtkDoubleArray()\n",
    "values.SetName('point_values_array')\n",
    "for i in range(totalNodes):\n",
    "    values.InsertNextValue(nodeValue[i])"
   ]
  },
  {
   "cell_type": "code",
   "execution_count": 12,
   "id": "4a297bc1",
   "metadata": {},
   "outputs": [
    {
     "data": {
      "text/plain": [
       "0"
      ]
     },
     "execution_count": 12,
     "metadata": {},
     "output_type": "execute_result"
    }
   ],
   "source": [
    "VoxelGrid.GetPointData().SetScalars(values)"
   ]
  },
  {
   "cell_type": "code",
   "execution_count": 13,
   "id": "3f56e131",
   "metadata": {},
   "outputs": [
    {
     "data": {
      "text/plain": [
       "0"
      ]
     },
     "execution_count": 13,
     "metadata": {},
     "output_type": "execute_result"
    }
   ],
   "source": [
    "state=vtk.vtkDoubleArray()\n",
    "state.SetName('State')\n",
    "for i in range(totalElements):\n",
    "    state.InsertNextValue(elementState[i])\n",
    "VoxelGrid.GetCellData().SetScalars(state)"
   ]
  },
  {
   "cell_type": "code",
   "execution_count": 14,
   "id": "6f216183",
   "metadata": {},
   "outputs": [
    {
     "data": {
      "text/plain": [
       "1"
      ]
     },
     "execution_count": 14,
     "metadata": {},
     "output_type": "execute_result"
    }
   ],
   "source": [
    "filename='block.vtk'\n",
    "writer = vtk.vtkUnstructuredGridWriter()\n",
    "writer.SetFileName(filename)\n",
    "writer.SetInputData(VoxelGrid)\n",
    "writer.Write()"
   ]
  },
  {
   "cell_type": "code",
   "execution_count": null,
   "id": "4eae4e47",
   "metadata": {},
   "outputs": [],
   "source": []
  }
 ],
 "metadata": {
  "kernelspec": {
   "display_name": "Python 3 (ipykernel)",
   "language": "python",
   "name": "python3"
  },
  "language_info": {
   "codemirror_mode": {
    "name": "ipython",
    "version": 3
   },
   "file_extension": ".py",
   "mimetype": "text/x-python",
   "name": "python",
   "nbconvert_exporter": "python",
   "pygments_lexer": "ipython3",
   "version": "3.9.12"
  }
 },
 "nbformat": 4,
 "nbformat_minor": 5
}
